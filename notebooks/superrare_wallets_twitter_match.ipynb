{
 "cells": [
  {
   "cell_type": "code",
   "execution_count": 1,
   "metadata": {},
   "outputs": [],
   "source": [
    "import pandas as pd\n",
    "import json\n",
    "from ast import literal_eval\n",
    "from src.providers.superrare_provider import SuperrareProvider\n",
    "from src.methods.username_method import UsernameMethod\n",
    "from src.methods.bot_method import BotMethod\n",
    "from src.methods.methods import METHODS"
   ]
  },
  {
   "cell_type": "code",
   "execution_count": 2,
   "metadata": {},
   "outputs": [],
   "source": [
    "config_file_path = input()\n",
    "config_file = open(config_file_path)\n",
    "config = json.load(config_file)"
   ]
  },
  {
   "cell_type": "code",
   "execution_count": 3,
   "metadata": {},
   "outputs": [],
   "source": [
    "tweets_df = pd.read_csv(config[\"tweets_csv\"])\n",
    "tweets_df[\"urls\"] = tweets_df[\"urls\"].apply(literal_eval)\n",
    "\n",
    "txs_df = pd.read_csv(config[\"txs_csv\"])"
   ]
  },
  {
   "cell_type": "code",
   "execution_count": 4,
   "metadata": {},
   "outputs": [],
   "source": [
    "provider = SuperrareProvider(config[\"nfts_csv\"])"
   ]
  },
  {
   "cell_type": "code",
   "execution_count": 9,
   "metadata": {},
   "outputs": [],
   "source": [
    "methods = []\n",
    "\n",
    "for m_key, m_args in config[\"methods\"].items():\n",
    "    methods.append(METHODS[m_key](txs_df, tweets_df, provider, **m_args))"
   ]
  },
  {
   "cell_type": "code",
   "execution_count": 10,
   "metadata": {},
   "outputs": [
    {
     "name": "stdout",
     "output_type": "stream",
     "text": [
      "          username                                 eth_address\n",
      "0         fastackl  0xf598aadf12a2fc4709b5db0c4c169715efaf2038\n",
      "1          mondoir  0xab6ca2017548a170699890214bfd66583a0c1754\n",
      "2    patrickamadon  0x469c5db50a93995b259fdfde80d0b8c9a64d923d\n",
      "3          luxpris  0x06ed63eac05a4b2c2f4d383257927b644dc801cf\n",
      "4        bananakin  0x8c26a91205e531e8b35cf3315f384727b9681d75\n",
      "..             ...                                         ...\n",
      "299      ykhaamelz  0x0b437b9d2a75bd885c89f92ad0bcfdbe8c67842a\n",
      "300        zouassi  0xc78e2de5ebc2cbd1a1cde876aab5d8990b4a827d\n",
      "301   ardhiraputra  0xaa78d5313ddd1196e03f7489fa09c588ee3a428b\n",
      "302   maxwellinked  0xfd9513d0ea7f6677ee55f0b4e474fff667089865\n",
      "303     rebellicca  0x583c3d9e5fd01bd3471d1ceb5f27737f36933080\n",
      "\n",
      "[304 rows x 2 columns]\n",
      "           username                                 eth_address\n",
      "0      BedroomWrong  0x03018c0dad483a344841675321d9676054dc9c9c\n",
      "1     plsandtybased  0x895df857cdd03106e82fa759cb881937aec8dd83\n",
      "2    think_flexible  0x8d1919f9f69911b0c6630703f1ab5da3d3faf1ca\n",
      "3          Matteyy_  0x48f9939d6bc73c24908689d69c731c4dc30386be\n",
      "4         Seerlight  0xd86057c793bdfb77bb11dcabfe054ee4fd86ebdd\n",
      "5         krybharat  0x9769334fc882775f4951865aa473481880669d47\n",
      "6       AmirHFallah  0x32b16cbcb8a2044417ac2d5b2422732015be1301\n",
      "7          divdotvc  0x1c051112075feaee33bcdbe0984c2bb0db53cf47\n",
      "8   Nicolas_Sassoon  0xaf49a257a6c66b509916ae316358cf83b3f17d49\n",
      "9         kevinrose  0x8682a78ea82bd94c3e250539079119b6eef132db\n",
      "10      nolankosher  0x5af1eaa21031264e1750fef7a590c792291c1554\n",
      "11     YuraMironArt  0xc15aa7af05ee4bdd05b475688f912761cfa1df19\n",
      "12        loopsdigi  0xc55d765bbd35e495ea519f0a170dedd30363e114\n",
      "13  robnessofficial  0x7485ac6d8534691993348d51ab0f131a19fff763\n",
      "14  Vince_Van_Dough  0x0f0eae91990140c560d4156db4f00c854dc8f09e\n",
      "15        MohlerArt  0xd8945d98ed4233cf87cfa4fdcc7a54fe279e8ee7\n",
      "16   blackboxdotart  0xdc546f477f273bcf327297bf4adcb671b5f20be1\n",
      "17          MattiaC  0x576a655161b5502dcf40602be1f3519a89b71658\n",
      "18   nuvolanevicata  0x0bfc14b3e1c8883231811b10794375fa79134fad\n",
      "19  CollinsCustomIP  0xf4d63913a748a6bbd99fbca027c58f3e9ee72a0c\n",
      "20      jasonebeyer  0x60cc0349d1151af21fd25f608429c63c6b1a9448\n",
      "21     CozomoMedici  0xce90a7949bb78892f159f428d0dc23a8e3584d75\n",
      "22    AlienqueenNFT  0xd81ce8e89dd987c8ab630858c8f1e9df14788c35\n",
      "23   shilstone_arts  0xdc13b330293f129c71cce3c494c862cc30b6cfda\n",
      "24    TennesseeJed3  0x0ac30c6aaf2ffc01938d92aca03f71f913636134\n",
      "25      Aka_Vertigo  0x904a819e486d4af2653eec8e424599335e2f190e\n",
      "26     Kenshiro_NFT  0xe1c9b7038a03dc898cd161827709a3c241af991e\n",
      "27          _olipoe  0xb700fea0e530f280b69373e951f2b060e92a06b2\n",
      "28  bitcoinprophet1  0x7b2ad6af37be6a77c95556d9453e4877b6a8437d\n",
      "29   TroyFitzpatric  0xa12db9f88f096f527fbe87a752c6ec16d501a25f\n",
      "30          omz_nft  0x6d9dd2b0fbf6e7d800f31c55f0f2f9089dfb7dc2\n",
      "31        gdrtweets  0xad170e62645ca0c2e842b62f8a2dd68f001709ab\n",
      "32           c34nft  0x694e64d4ad77e0c234b7b1c55ac40302ad86ce3f\n",
      "33       oficinastk  0xa4ad045d62a493f0ed883b413866448afb13087c\n",
      "34  NicolaScognami7  0x77f979c54b760d86854f781e4b3a231f642f9711\n",
      "35   Lanedigitalart  0x270e8014a75dfc51c54349e7ebed8363a5898425\n",
      "36        BeeCoalie  0xf7ee6c2f811b52c72efd167a1bb3f4adaa1e0f89\n",
      "37   AHOLSNIFFSGLUE  0xc7a295b1b2df1efb82aa204958b98ac30171cb85\n",
      "38  CollinsCustomIP  0x240ad467a71210629d71d4de22ebde27951c83fc\n",
      "39        gdrtweets  0xad170e62645ca0c2e842b62f8a2dd68f001709ab\n",
      "40           c34nft  0x694e64d4ad77e0c234b7b1c55ac40302ad86ce3f\n",
      "41    missalsimpson  0x8b7adc43153bcfae98ab20ce9fff23331f542387\n",
      "42          knomadx  0x40d6cc4ad15707844b320b1d3815e0f0cf09ff30\n",
      "43       oficinastk  0xa4ad045d62a493f0ed883b413866448afb13087c\n",
      "44  NicolaScognami7  0x77f979c54b760d86854f781e4b3a231f642f9711\n"
     ]
    }
   ],
   "source": [
    "df = pd.DataFrame(columns = [\"username\", \"eth_address\"])\n",
    "\n",
    "for m in methods:\n",
    "    res = m.match()\n",
    "    print(res)\n",
    "    df = pd.concat([df, res])\n",
    "\n",
    "df = df.drop_duplicates().reset_index(drop=True)"
   ]
  },
  {
   "cell_type": "code",
   "execution_count": 11,
   "metadata": {},
   "outputs": [
    {
     "data": {
      "text/html": [
       "<div>\n",
       "<style scoped>\n",
       "    .dataframe tbody tr th:only-of-type {\n",
       "        vertical-align: middle;\n",
       "    }\n",
       "\n",
       "    .dataframe tbody tr th {\n",
       "        vertical-align: top;\n",
       "    }\n",
       "\n",
       "    .dataframe thead th {\n",
       "        text-align: right;\n",
       "    }\n",
       "</style>\n",
       "<table border=\"1\" class=\"dataframe\">\n",
       "  <thead>\n",
       "    <tr style=\"text-align: right;\">\n",
       "      <th></th>\n",
       "      <th>username</th>\n",
       "      <th>eth_address</th>\n",
       "    </tr>\n",
       "  </thead>\n",
       "  <tbody>\n",
       "    <tr>\n",
       "      <th>0</th>\n",
       "      <td>fastackl</td>\n",
       "      <td>0xf598aadf12a2fc4709b5db0c4c169715efaf2038</td>\n",
       "    </tr>\n",
       "    <tr>\n",
       "      <th>1</th>\n",
       "      <td>mondoir</td>\n",
       "      <td>0xab6ca2017548a170699890214bfd66583a0c1754</td>\n",
       "    </tr>\n",
       "    <tr>\n",
       "      <th>2</th>\n",
       "      <td>patrickamadon</td>\n",
       "      <td>0x469c5db50a93995b259fdfde80d0b8c9a64d923d</td>\n",
       "    </tr>\n",
       "    <tr>\n",
       "      <th>3</th>\n",
       "      <td>luxpris</td>\n",
       "      <td>0x06ed63eac05a4b2c2f4d383257927b644dc801cf</td>\n",
       "    </tr>\n",
       "    <tr>\n",
       "      <th>4</th>\n",
       "      <td>bananakin</td>\n",
       "      <td>0x8c26a91205e531e8b35cf3315f384727b9681d75</td>\n",
       "    </tr>\n",
       "    <tr>\n",
       "      <th>...</th>\n",
       "      <td>...</td>\n",
       "      <td>...</td>\n",
       "    </tr>\n",
       "    <tr>\n",
       "      <th>335</th>\n",
       "      <td>Lanedigitalart</td>\n",
       "      <td>0x270e8014a75dfc51c54349e7ebed8363a5898425</td>\n",
       "    </tr>\n",
       "    <tr>\n",
       "      <th>336</th>\n",
       "      <td>BeeCoalie</td>\n",
       "      <td>0xf7ee6c2f811b52c72efd167a1bb3f4adaa1e0f89</td>\n",
       "    </tr>\n",
       "    <tr>\n",
       "      <th>337</th>\n",
       "      <td>AHOLSNIFFSGLUE</td>\n",
       "      <td>0xc7a295b1b2df1efb82aa204958b98ac30171cb85</td>\n",
       "    </tr>\n",
       "    <tr>\n",
       "      <th>338</th>\n",
       "      <td>CollinsCustomIP</td>\n",
       "      <td>0x240ad467a71210629d71d4de22ebde27951c83fc</td>\n",
       "    </tr>\n",
       "    <tr>\n",
       "      <th>339</th>\n",
       "      <td>knomadx</td>\n",
       "      <td>0x40d6cc4ad15707844b320b1d3815e0f0cf09ff30</td>\n",
       "    </tr>\n",
       "  </tbody>\n",
       "</table>\n",
       "<p>340 rows × 2 columns</p>\n",
       "</div>"
      ],
      "text/plain": [
       "            username                                 eth_address\n",
       "0           fastackl  0xf598aadf12a2fc4709b5db0c4c169715efaf2038\n",
       "1            mondoir  0xab6ca2017548a170699890214bfd66583a0c1754\n",
       "2      patrickamadon  0x469c5db50a93995b259fdfde80d0b8c9a64d923d\n",
       "3            luxpris  0x06ed63eac05a4b2c2f4d383257927b644dc801cf\n",
       "4          bananakin  0x8c26a91205e531e8b35cf3315f384727b9681d75\n",
       "..               ...                                         ...\n",
       "335   Lanedigitalart  0x270e8014a75dfc51c54349e7ebed8363a5898425\n",
       "336        BeeCoalie  0xf7ee6c2f811b52c72efd167a1bb3f4adaa1e0f89\n",
       "337   AHOLSNIFFSGLUE  0xc7a295b1b2df1efb82aa204958b98ac30171cb85\n",
       "338  CollinsCustomIP  0x240ad467a71210629d71d4de22ebde27951c83fc\n",
       "339          knomadx  0x40d6cc4ad15707844b320b1d3815e0f0cf09ff30\n",
       "\n",
       "[340 rows x 2 columns]"
      ]
     },
     "execution_count": 11,
     "metadata": {},
     "output_type": "execute_result"
    }
   ],
   "source": [
    "df"
   ]
  }
 ],
 "metadata": {
  "interpreter": {
   "hash": "5b7e78df6245c0593a1a4e14fc01dcca731d0e1650f2f7eb82f78f8f7cec7cc7"
  },
  "kernelspec": {
   "display_name": "Python 3.8.13 ('nft_match')",
   "language": "python",
   "name": "python3"
  },
  "language_info": {
   "codemirror_mode": {
    "name": "ipython",
    "version": 3
   },
   "file_extension": ".py",
   "mimetype": "text/x-python",
   "name": "python",
   "nbconvert_exporter": "python",
   "pygments_lexer": "ipython3",
   "version": "3.8.13"
  },
  "orig_nbformat": 4
 },
 "nbformat": 4,
 "nbformat_minor": 2
}
